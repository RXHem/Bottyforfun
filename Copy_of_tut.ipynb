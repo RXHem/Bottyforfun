{
  "nbformat": 4,
  "nbformat_minor": 0,
  "metadata": {
    "colab": {
      "provenance": [],
      "authorship_tag": "ABX9TyMonq7PVMoz9KC0kZ792BM4",
      "include_colab_link": true
    },
    "kernelspec": {
      "name": "python3",
      "display_name": "Python 3"
    },
    "language_info": {
      "name": "python"
    }
  },
  "cells": [
    {
      "cell_type": "markdown",
      "metadata": {
        "id": "view-in-github",
        "colab_type": "text"
      },
      "source": [
        "<a href=\"https://colab.research.google.com/github/RXHem/Bottyforfun/blob/main/Copy_of_tut.ipynb\" target=\"_parent\"><img src=\"https://colab.research.google.com/assets/colab-badge.svg\" alt=\"Open In Colab\"/></a>"
      ]
    },
    {
      "cell_type": "code",
      "execution_count": null,
      "metadata": {
        "colab": {
          "base_uri": "https://localhost:8080/"
        },
        "id": "2jsMhReDfEgN",
        "outputId": "edcf658d-ab09-46fc-88ba-32cca24cc63c"
      },
      "outputs": [
        {
          "output_type": "stream",
          "name": "stdout",
          "text": [
            "Downloading data from https://storage.googleapis.com/tensorflow/tf-keras-datasets/imdb.npz\n",
            "17464789/17464789 [==============================] - 0s 0us/step\n"
          ]
        }
      ],
      "source": [
        "from keras.datasets import imdb\n",
        "(train_data, train_labels), (test_data, test_labels) = imdb.load_data(num_words=10000)"
      ]
    },
    {
      "cell_type": "code",
      "source": [
        "train_data[0]\n",
        "train_labels[0]\n",
        "\n",
        "import numpy as np\n",
        "\n",
        "\n",
        "def vectorize_sequences(sequences, dimension=10000):\n",
        "  # Creates an all-zero matrix\n",
        "  results = np.zeros((len(sequences), dimension))\n",
        "  # Set approperiate indices of the tensor result to 1s\n",
        "  for i, sequence in enumerate(sequences):\n",
        "    results[i, sequence] = 1.\n",
        "  return results\n",
        "\n",
        "# Turn Python lists into NumPy tensors\n",
        "x_train = vectorize_sequences(train_data)\n",
        "x_test = vectorize_sequences(test_data)\n",
        "\n",
        "# print out parts of x_train to see what is in it...\n",
        "print(x_train[:9])\n",
        "\n",
        "\n",
        "y_train = np.asarray(train_labels).astype('float32')\n",
        "y_test = np.asarray(test_labels).astype('float32')\n",
        "\n",
        "# print out parts of y_train to see what is in it...\n",
        "print(y_train[:9])"
      ],
      "metadata": {
        "colab": {
          "base_uri": "https://localhost:8080/"
        },
        "id": "Mbz73v3PfKEE",
        "outputId": "b1e86ff9-6b3a-4b0d-941f-07c0a7d882a8"
      },
      "execution_count": null,
      "outputs": [
        {
          "output_type": "stream",
          "name": "stdout",
          "text": [
            "[[0. 1. 1. ... 0. 0. 0.]\n",
            " [0. 1. 1. ... 0. 0. 0.]\n",
            " [0. 1. 1. ... 0. 0. 0.]\n",
            " ...\n",
            " [0. 1. 1. ... 0. 0. 0.]\n",
            " [0. 1. 1. ... 0. 0. 0.]\n",
            " [0. 1. 1. ... 0. 0. 0.]]\n",
            "[1. 0. 0. 1. 0. 0. 1. 0. 1.]\n"
          ]
        }
      ]
    },
    {
      "cell_type": "code",
      "source": [
        "from keras import models\n",
        "from keras import layers\n",
        "\n",
        "model = models.Sequential()\n",
        "model.add(layers.Dense(16, activation='relu', input_shape=(10000,)))\n",
        "model.add(layers.Dense(16, activation='relu'))\n",
        "model.add(layers.Dense(1, activation='sigmoid'))\n",
        "\n",
        "model.compile(optimizer='rmsprop',\n",
        "              loss='binary_crossentropy',\n",
        "              metrics=['accuracy'])"
      ],
      "metadata": {
        "id": "5BrcPvQ1fuY0"
      },
      "execution_count": null,
      "outputs": []
    },
    {
      "cell_type": "code",
      "source": [
        "# Setting aside a validation set\n",
        "x_val = x_train[:10000]\n",
        "partial_x_train = x_train[10000:]\n",
        "\n",
        "y_val = y_train[:10000]\n",
        "partial_y_train = y_train[10000:]\n",
        "\n",
        "# Training the model\n",
        "model.fit(partial_x_train,\n",
        "          partial_y_train,\n",
        "          epochs=20,\n",
        "          batch_size=512,\n",
        "          validation_data=(x_val, y_val))\n"
      ],
      "metadata": {
        "colab": {
          "base_uri": "https://localhost:8080/"
        },
        "id": "BRNfRB0Ff1Ak",
        "outputId": "6e838e58-8aa5-461f-a87f-51a5b257720c"
      },
      "execution_count": null,
      "outputs": [
        {
          "output_type": "stream",
          "name": "stdout",
          "text": [
            "Epoch 1/20\n",
            "30/30 [==============================] - 6s 89ms/step - loss: 0.4990 - accuracy: 0.8047 - val_loss: 0.3810 - val_accuracy: 0.8713\n",
            "Epoch 2/20\n",
            "30/30 [==============================] - 1s 47ms/step - loss: 0.2985 - accuracy: 0.9059 - val_loss: 0.3002 - val_accuracy: 0.8874\n",
            "Epoch 3/20\n",
            "30/30 [==============================] - 1s 36ms/step - loss: 0.2207 - accuracy: 0.9267 - val_loss: 0.2800 - val_accuracy: 0.8879\n",
            "Epoch 4/20\n",
            "30/30 [==============================] - 1s 36ms/step - loss: 0.1746 - accuracy: 0.9448 - val_loss: 0.2732 - val_accuracy: 0.8894\n",
            "Epoch 5/20\n",
            "30/30 [==============================] - 1s 36ms/step - loss: 0.1401 - accuracy: 0.9553 - val_loss: 0.2926 - val_accuracy: 0.8856\n",
            "Epoch 6/20\n",
            "30/30 [==============================] - 1s 37ms/step - loss: 0.1178 - accuracy: 0.9635 - val_loss: 0.3051 - val_accuracy: 0.8828\n",
            "Epoch 7/20\n",
            "30/30 [==============================] - 1s 36ms/step - loss: 0.0956 - accuracy: 0.9723 - val_loss: 0.3072 - val_accuracy: 0.8851\n",
            "Epoch 8/20\n",
            "30/30 [==============================] - 1s 36ms/step - loss: 0.0773 - accuracy: 0.9786 - val_loss: 0.3401 - val_accuracy: 0.8804\n",
            "Epoch 9/20\n",
            "30/30 [==============================] - 1s 37ms/step - loss: 0.0640 - accuracy: 0.9833 - val_loss: 0.3542 - val_accuracy: 0.8779\n",
            "Epoch 10/20\n",
            "30/30 [==============================] - 1s 36ms/step - loss: 0.0498 - accuracy: 0.9879 - val_loss: 0.3755 - val_accuracy: 0.8782\n",
            "Epoch 11/20\n",
            "30/30 [==============================] - 1s 37ms/step - loss: 0.0408 - accuracy: 0.9908 - val_loss: 0.4080 - val_accuracy: 0.8767\n",
            "Epoch 12/20\n",
            "30/30 [==============================] - 1s 37ms/step - loss: 0.0314 - accuracy: 0.9943 - val_loss: 0.4348 - val_accuracy: 0.8757\n",
            "Epoch 13/20\n",
            "30/30 [==============================] - 1s 36ms/step - loss: 0.0245 - accuracy: 0.9956 - val_loss: 0.4674 - val_accuracy: 0.8743\n",
            "Epoch 14/20\n",
            "30/30 [==============================] - 1s 40ms/step - loss: 0.0176 - accuracy: 0.9978 - val_loss: 0.5112 - val_accuracy: 0.8697\n",
            "Epoch 15/20\n",
            "30/30 [==============================] - 1s 36ms/step - loss: 0.0148 - accuracy: 0.9982 - val_loss: 0.5524 - val_accuracy: 0.8704\n",
            "Epoch 16/20\n",
            "30/30 [==============================] - 1s 37ms/step - loss: 0.0115 - accuracy: 0.9983 - val_loss: 0.5795 - val_accuracy: 0.8662\n",
            "Epoch 17/20\n",
            "30/30 [==============================] - 1s 36ms/step - loss: 0.0062 - accuracy: 0.9998 - val_loss: 0.6034 - val_accuracy: 0.8679\n",
            "Epoch 18/20\n",
            "30/30 [==============================] - 1s 36ms/step - loss: 0.0078 - accuracy: 0.9988 - val_loss: 0.6463 - val_accuracy: 0.8654\n",
            "Epoch 19/20\n",
            "30/30 [==============================] - 1s 36ms/step - loss: 0.0064 - accuracy: 0.9985 - val_loss: 0.6657 - val_accuracy: 0.8686\n",
            "Epoch 20/20\n",
            "30/30 [==============================] - 1s 36ms/step - loss: 0.0024 - accuracy: 0.9999 - val_loss: 0.7062 - val_accuracy: 0.8652\n"
          ]
        },
        {
          "output_type": "execute_result",
          "data": {
            "text/plain": [
              "<keras.callbacks.History at 0x7f2552f78790>"
            ]
          },
          "metadata": {},
          "execution_count": 4
        }
      ]
    },
    {
      "cell_type": "code",
      "source": [
        "# Evaluation\n",
        "results = model.evaluate(x_test, y_test)"
      ],
      "metadata": {
        "colab": {
          "base_uri": "https://localhost:8080/"
        },
        "id": "OI-XiWa6f4ig",
        "outputId": "ba267f04-8f3f-43f3-8f49-1ce2b381cf36"
      },
      "execution_count": null,
      "outputs": [
        {
          "output_type": "stream",
          "name": "stdout",
          "text": [
            "782/782 [==============================] - 3s 4ms/step - loss: 0.7835 - accuracy: 0.8470\n"
          ]
        }
      ]
    },
    {
      "cell_type": "code",
      "source": [
        "from prettytable import PrettyTable\n",
        "# Prediction\n",
        "preds = model.predict(x_test[0:10])\n",
        "\n",
        "t = PrettyTable(['Real', 'Predicted'])\n",
        "for i, pred in enumerate(preds):\n",
        "    t.add_row([y_test[i], round(preds[i, 0], 2)])\n",
        "print(t)"
      ],
      "metadata": {
        "colab": {
          "base_uri": "https://localhost:8080/"
        },
        "id": "DfEwPuvYgRRB",
        "outputId": "4ad0238f-328b-4271-ec2b-7a461faf1b4f"
      },
      "execution_count": null,
      "outputs": [
        {
          "output_type": "stream",
          "name": "stdout",
          "text": [
            "1/1 [==============================] - 0s 464ms/step\n",
            "+------+-----------+\n",
            "| Real | Predicted |\n",
            "+------+-----------+\n",
            "| 0.0  |    0.0    |\n",
            "| 1.0  |    1.0    |\n",
            "| 1.0  |    0.93   |\n",
            "| 0.0  |    0.87   |\n",
            "| 1.0  |    0.98   |\n",
            "| 1.0  |    1.0    |\n",
            "| 1.0  |    0.59   |\n",
            "| 0.0  |    0.0    |\n",
            "| 0.0  |    0.85   |\n",
            "| 1.0  |    1.0    |\n",
            "+------+-----------+\n"
          ]
        }
      ]
    },
    {
      "cell_type": "code",
      "source": [],
      "metadata": {
        "id": "90uWvZDcgUv6"
      },
      "execution_count": null,
      "outputs": []
    },
    {
      "cell_type": "markdown",
      "source": [
        "Now using Simple Recurrent Neural Networks\n"
      ],
      "metadata": {
        "id": "1bfoi8QbgZD4"
      }
    },
    {
      "cell_type": "code",
      "source": [
        "from keras.datasets import imdb\n",
        "from keras.utils import pad_sequences\n",
        "\n",
        "max_features = 10000\n",
        "maxlen = 500\n",
        "batch_size = 32\n",
        "\n",
        "# Load data and pad it\n",
        "(input_train, y_train), (input_test, y_test) = imdb.load_data(num_words=max_features)\n",
        "input_train = pad_sequences(input_train, maxlen=maxlen)\n",
        "input_test = pad_sequences(input_test, maxlen=maxlen)\n"
      ],
      "metadata": {
        "id": "NrnPcrV1gdlf"
      },
      "execution_count": null,
      "outputs": []
    },
    {
      "cell_type": "markdown",
      "source": [
        "Please amend the import in [11]\n",
        "Code given in tutorial 10 has been updated and from keras import preprocessing import sequence has no longer pad_sequences()\n",
        "Use instead: from keras.utils import pad_sequences"
      ],
      "metadata": {
        "id": "Hbkkq9MIhnX3"
      }
    },
    {
      "cell_type": "code",
      "source": [
        "from keras.layers import Embedding, SimpleRNN, Dense\n",
        "\n",
        "# Define model\n",
        "model = models.Sequential()\n",
        "model.add(Embedding(max_features, 32))\n",
        "model.add(SimpleRNN(32))\n",
        "model.add(Dense(1, activation='sigmoid'))\n",
        "\n",
        "model.compile(optimizer='rmsprop',\n",
        "              loss='binary_crossentropy',\n",
        "              metrics=['acc'])\n",
        "\n",
        "# Train the model\n",
        "model.fit(input_train, y_train,\n",
        "          epochs=15,\n",
        "          batch_size=128,\n",
        "          validation_split=0.2)\n"
      ],
      "metadata": {
        "colab": {
          "base_uri": "https://localhost:8080/"
        },
        "id": "eY_9kRUdghRA",
        "outputId": "8c4a52cf-162d-4203-a684-a9000ad3b0d5"
      },
      "execution_count": null,
      "outputs": [
        {
          "output_type": "stream",
          "name": "stdout",
          "text": [
            "Epoch 1/15\n",
            "157/157 [==============================] - 26s 155ms/step - loss: 0.6712 - acc: 0.5793 - val_loss: 0.5747 - val_acc: 0.7598\n",
            "Epoch 2/15\n",
            "157/157 [==============================] - 30s 193ms/step - loss: 0.4440 - acc: 0.8097 - val_loss: 0.4037 - val_acc: 0.8264\n",
            "Epoch 3/15\n",
            "157/157 [==============================] - 27s 169ms/step - loss: 0.3040 - acc: 0.8807 - val_loss: 0.3704 - val_acc: 0.8410\n",
            "Epoch 4/15\n",
            "157/157 [==============================] - 26s 169ms/step - loss: 0.2068 - acc: 0.9214 - val_loss: 0.4049 - val_acc: 0.8274\n",
            "Epoch 5/15\n",
            "157/157 [==============================] - 25s 159ms/step - loss: 0.1358 - acc: 0.9532 - val_loss: 0.4604 - val_acc: 0.8118\n",
            "Epoch 6/15\n",
            "157/157 [==============================] - 24s 153ms/step - loss: 0.0857 - acc: 0.9729 - val_loss: 0.6176 - val_acc: 0.7556\n",
            "Epoch 7/15\n",
            "157/157 [==============================] - 25s 162ms/step - loss: 0.0525 - acc: 0.9838 - val_loss: 0.6830 - val_acc: 0.7434\n",
            "Epoch 8/15\n",
            "157/157 [==============================] - 24s 150ms/step - loss: 0.0318 - acc: 0.9916 - val_loss: 0.5759 - val_acc: 0.8370\n",
            "Epoch 9/15\n",
            "157/157 [==============================] - 24s 151ms/step - loss: 0.0198 - acc: 0.9944 - val_loss: 0.6360 - val_acc: 0.8372\n",
            "Epoch 10/15\n",
            "157/157 [==============================] - 24s 152ms/step - loss: 0.0136 - acc: 0.9961 - val_loss: 0.7904 - val_acc: 0.7644\n",
            "Epoch 11/15\n",
            "157/157 [==============================] - 24s 154ms/step - loss: 0.0104 - acc: 0.9969 - val_loss: 0.6865 - val_acc: 0.8246\n",
            "Epoch 12/15\n",
            "157/157 [==============================] - 24s 154ms/step - loss: 0.0082 - acc: 0.9975 - val_loss: 0.7355 - val_acc: 0.8180\n",
            "Epoch 13/15\n",
            "157/157 [==============================] - 25s 159ms/step - loss: 0.0099 - acc: 0.9966 - val_loss: 0.7995 - val_acc: 0.8084\n",
            "Epoch 14/15\n",
            "157/157 [==============================] - 24s 152ms/step - loss: 0.0052 - acc: 0.9985 - val_loss: 0.9265 - val_acc: 0.7830\n",
            "Epoch 15/15\n",
            "157/157 [==============================] - 24s 151ms/step - loss: 0.0061 - acc: 0.9982 - val_loss: 0.8248 - val_acc: 0.8090\n"
          ]
        },
        {
          "output_type": "execute_result",
          "data": {
            "text/plain": [
              "<keras.callbacks.History at 0x7f2557ff6ad0>"
            ]
          },
          "metadata": {},
          "execution_count": 12
        }
      ]
    },
    {
      "cell_type": "code",
      "source": [
        "# Evaluation\n",
        "results = model.evaluate(input_test, y_test)"
      ],
      "metadata": {
        "colab": {
          "base_uri": "https://localhost:8080/"
        },
        "id": "nMxZM_XxjGtu",
        "outputId": "a73c75e5-4865-4150-e075-3f0e8b8067d6"
      },
      "execution_count": null,
      "outputs": [
        {
          "output_type": "stream",
          "name": "stdout",
          "text": [
            "782/782 [==============================] - 21s 27ms/step - loss: 0.8551 - acc: 0.8044\n"
          ]
        }
      ]
    },
    {
      "cell_type": "code",
      "source": [
        "# Define model\n",
        "model = models.Sequential()\n",
        "model.add(Embedding(max_features, 32))\n",
        "model.add(SimpleRNN(32, return_sequences=True))\n",
        "model.add(SimpleRNN(32, return_sequences=True))\n",
        "model.add(SimpleRNN(32, return_sequences=True))\n",
        "model.add(SimpleRNN(32))\n",
        "model.add(Dense(1, activation='sigmoid'))\n",
        "\n",
        "model.compile(optimizer='rmsprop',\n",
        "              loss='binary_crossentropy',\n",
        "              metrics=['acc'])\n",
        "\n",
        "# Train the model\n",
        "model.fit(input_train, y_train,\n",
        "          epochs=15,\n",
        "          batch_size=128,\n",
        "          validation_split=0.2)"
      ],
      "metadata": {
        "colab": {
          "base_uri": "https://localhost:8080/"
        },
        "id": "eQ2ZyUe8jML9",
        "outputId": "8c3352dd-419d-4561-dc3b-f3bfdd599645"
      },
      "execution_count": null,
      "outputs": [
        {
          "output_type": "stream",
          "name": "stdout",
          "text": [
            "Epoch 1/15\n",
            "157/157 [==============================] - 101s 619ms/step - loss: 0.6889 - acc: 0.5315 - val_loss: 0.5727 - val_acc: 0.7338\n",
            "Epoch 2/15\n",
            "157/157 [==============================] - 95s 605ms/step - loss: 0.4316 - acc: 0.8062 - val_loss: 0.4523 - val_acc: 0.7870\n",
            "Epoch 3/15\n",
            "157/157 [==============================] - 95s 608ms/step - loss: 0.2674 - acc: 0.8938 - val_loss: 0.5519 - val_acc: 0.7494\n",
            "Epoch 4/15\n",
            "157/157 [==============================] - 95s 603ms/step - loss: 0.1636 - acc: 0.9398 - val_loss: 0.5216 - val_acc: 0.8138\n",
            "Epoch 5/15\n",
            "157/157 [==============================] - 93s 590ms/step - loss: 0.0784 - acc: 0.9745 - val_loss: 0.6804 - val_acc: 0.8124\n",
            "Epoch 6/15\n",
            "157/157 [==============================] - 94s 597ms/step - loss: 0.0435 - acc: 0.9859 - val_loss: 0.9588 - val_acc: 0.7456\n",
            "Epoch 7/15\n",
            "157/157 [==============================] - 93s 592ms/step - loss: 0.0233 - acc: 0.9931 - val_loss: 1.1533 - val_acc: 0.7212\n",
            "Epoch 8/15\n",
            "157/157 [==============================] - 94s 601ms/step - loss: 0.0140 - acc: 0.9951 - val_loss: 1.2511 - val_acc: 0.7262\n",
            "Epoch 9/15\n",
            "157/157 [==============================] - 93s 592ms/step - loss: 0.0091 - acc: 0.9974 - val_loss: 1.1515 - val_acc: 0.7772\n",
            "Epoch 10/15\n",
            "157/157 [==============================] - 93s 595ms/step - loss: 0.0079 - acc: 0.9973 - val_loss: 1.1917 - val_acc: 0.7786\n",
            "Epoch 11/15\n",
            "157/157 [==============================] - 94s 602ms/step - loss: 0.0073 - acc: 0.9976 - val_loss: 1.2971 - val_acc: 0.7612\n",
            "Epoch 12/15\n",
            "157/157 [==============================] - 95s 607ms/step - loss: 0.0047 - acc: 0.9987 - val_loss: 1.2712 - val_acc: 0.7958\n",
            "Epoch 13/15\n",
            "157/157 [==============================] - 95s 607ms/step - loss: 0.0022 - acc: 0.9992 - val_loss: 1.5850 - val_acc: 0.7522\n",
            "Epoch 14/15\n",
            "157/157 [==============================] - 96s 609ms/step - loss: 0.0042 - acc: 0.9983 - val_loss: 1.5886 - val_acc: 0.7638\n",
            "Epoch 15/15\n",
            "157/157 [==============================] - 94s 601ms/step - loss: 0.0062 - acc: 0.9983 - val_loss: 2.0898 - val_acc: 0.6784\n"
          ]
        },
        {
          "output_type": "execute_result",
          "data": {
            "text/plain": [
              "<keras.callbacks.History at 0x7f25566d1310>"
            ]
          },
          "metadata": {},
          "execution_count": 14
        }
      ]
    },
    {
      "cell_type": "code",
      "source": [
        "# Evaluation\n",
        "results = model.evaluate(input_test, y_test)\n"
      ],
      "metadata": {
        "colab": {
          "base_uri": "https://localhost:8080/"
        },
        "id": "GEb6Am4zjXQB",
        "outputId": "82584c95-0bf4-4f24-ad78-f68f303534b2"
      },
      "execution_count": null,
      "outputs": [
        {
          "output_type": "stream",
          "name": "stdout",
          "text": [
            "782/782 [==============================] - 74s 95ms/step - loss: 2.0052 - acc: 0.6876\n"
          ]
        }
      ]
    },
    {
      "cell_type": "markdown",
      "source": [
        "Same for [11]\n",
        "Tutorial code has to be updated to make it run correctly\n",
        "Change the import from keras.layers.recurrent in:\n",
        "from keras.layers import LSTM"
      ],
      "metadata": {
        "id": "gaMCGELapVo6"
      }
    },
    {
      "cell_type": "code",
      "source": [
        "from keras.layers import LSTM\n",
        "\n",
        "# Define LSTM network\n",
        "model = models.Sequential()\n",
        "model.add(Embedding(max_features, 32))\n",
        "model.add(LSTM(32))\n",
        "model.add(Dense(1, activation='sigmoid'))\n",
        "\n",
        "model.compile(optimizer='rmsprop',\n",
        "              loss='binary_crossentropy',\n",
        "              metrics=['acc'])\n",
        "\n",
        "# Train the model\n",
        "model.fit(input_train, y_train,\n",
        "          epochs=20,\n",
        "          batch_size=128,\n",
        "          validation_split=0.2)\n"
      ],
      "metadata": {
        "colab": {
          "base_uri": "https://localhost:8080/"
        },
        "id": "vM9N8aLFnY73",
        "outputId": "c9842e50-5866-46c8-d3b1-750d86d241b9"
      },
      "execution_count": null,
      "outputs": [
        {
          "output_type": "stream",
          "name": "stdout",
          "text": [
            "Epoch 1/20\n",
            "157/157 [==============================] - 65s 401ms/step - loss: 0.4931 - acc: 0.7634 - val_loss: 0.3531 - val_acc: 0.8604\n",
            "Epoch 2/20\n",
            "157/157 [==============================] - 54s 344ms/step - loss: 0.2885 - acc: 0.8874 - val_loss: 0.3135 - val_acc: 0.8726\n",
            "Epoch 3/20\n",
            "157/157 [==============================] - 55s 353ms/step - loss: 0.2285 - acc: 0.9151 - val_loss: 0.2863 - val_acc: 0.8894\n",
            "Epoch 4/20\n",
            "157/157 [==============================] - 54s 346ms/step - loss: 0.1977 - acc: 0.9268 - val_loss: 0.3077 - val_acc: 0.8792\n",
            "Epoch 5/20\n",
            "157/157 [==============================] - 54s 343ms/step - loss: 0.1722 - acc: 0.9378 - val_loss: 0.3211 - val_acc: 0.8820\n",
            "Epoch 6/20\n",
            "157/157 [==============================] - 54s 343ms/step - loss: 0.1533 - acc: 0.9458 - val_loss: 0.3251 - val_acc: 0.8832\n",
            "Epoch 7/20\n",
            "157/157 [==============================] - 55s 350ms/step - loss: 0.1379 - acc: 0.9527 - val_loss: 0.5405 - val_acc: 0.8336\n",
            "Epoch 8/20\n",
            "157/157 [==============================] - 54s 344ms/step - loss: 0.1266 - acc: 0.9558 - val_loss: 0.5381 - val_acc: 0.8348\n",
            "Epoch 9/20\n",
            "157/157 [==============================] - 54s 345ms/step - loss: 0.1162 - acc: 0.9596 - val_loss: 0.5477 - val_acc: 0.8188\n",
            "Epoch 10/20\n",
            "157/157 [==============================] - 54s 346ms/step - loss: 0.1091 - acc: 0.9617 - val_loss: 0.3538 - val_acc: 0.8788\n",
            "Epoch 11/20\n",
            "157/157 [==============================] - 56s 357ms/step - loss: 0.0983 - acc: 0.9671 - val_loss: 0.4453 - val_acc: 0.8762\n",
            "Epoch 12/20\n",
            "157/157 [==============================] - 54s 344ms/step - loss: 0.0942 - acc: 0.9674 - val_loss: 0.3673 - val_acc: 0.8692\n",
            "Epoch 13/20\n",
            "157/157 [==============================] - 54s 344ms/step - loss: 0.0869 - acc: 0.9701 - val_loss: 0.3894 - val_acc: 0.8766\n",
            "Epoch 14/20\n",
            "157/157 [==============================] - 54s 346ms/step - loss: 0.0824 - acc: 0.9721 - val_loss: 0.4706 - val_acc: 0.8792\n",
            "Epoch 15/20\n",
            "157/157 [==============================] - 55s 354ms/step - loss: 0.0760 - acc: 0.9762 - val_loss: 0.4478 - val_acc: 0.8728\n",
            "Epoch 16/20\n",
            "157/157 [==============================] - 55s 348ms/step - loss: 0.0715 - acc: 0.9765 - val_loss: 0.4438 - val_acc: 0.8724\n",
            "Epoch 17/20\n",
            "157/157 [==============================] - 55s 347ms/step - loss: 0.0687 - acc: 0.9783 - val_loss: 0.5265 - val_acc: 0.8716\n",
            "Epoch 18/20\n",
            "157/157 [==============================] - 54s 345ms/step - loss: 0.0666 - acc: 0.9787 - val_loss: 0.4835 - val_acc: 0.8734\n",
            "Epoch 19/20\n",
            "157/157 [==============================] - 54s 346ms/step - loss: 0.0584 - acc: 0.9812 - val_loss: 0.5187 - val_acc: 0.8706\n",
            "Epoch 20/20\n",
            "157/157 [==============================] - 55s 350ms/step - loss: 0.0561 - acc: 0.9822 - val_loss: 0.5802 - val_acc: 0.8632\n"
          ]
        },
        {
          "output_type": "execute_result",
          "data": {
            "text/plain": [
              "<keras.callbacks.History at 0x7f2557e05c10>"
            ]
          },
          "metadata": {},
          "execution_count": 17
        }
      ]
    },
    {
      "cell_type": "code",
      "source": [
        "# Evaluation\n",
        "results = model.evaluate(input_test, y_test)"
      ],
      "metadata": {
        "colab": {
          "base_uri": "https://localhost:8080/"
        },
        "id": "KMd4XSaUpTC-",
        "outputId": "fd6c2848-4682-4f44-c2b8-06e634419e2a"
      },
      "execution_count": null,
      "outputs": [
        {
          "output_type": "stream",
          "name": "stdout",
          "text": [
            "782/782 [==============================] - 36s 46ms/step - loss: 0.7299 - acc: 0.8328\n"
          ]
        }
      ]
    },
    {
      "cell_type": "code",
      "source": [],
      "metadata": {
        "id": "d2g2K5j4uRoq"
      },
      "execution_count": null,
      "outputs": []
    }
  ]
}